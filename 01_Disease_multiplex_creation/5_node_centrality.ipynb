{
 "cells": [
  {
   "cell_type": "code",
   "execution_count": 1,
   "metadata": {},
   "outputs": [],
   "source": [
    "import networkx as nx\n",
    "import matplotlib.pyplot as plt\n",
    "import numpy as np\n",
    "import pandas as pd\n",
    "from scipy import stats"
   ]
  },
  {
   "cell_type": "markdown",
   "metadata": {},
   "source": [
    "# Functions"
   ]
  },
  {
   "cell_type": "code",
   "execution_count": 2,
   "metadata": {},
   "outputs": [],
   "source": [
    "def create_graph(file_path):\n",
    "    '''\n",
    "    Reads file with an edgelist and creates NetworkX graph from it.\n",
    "\n",
    "    Parameters:\n",
    "        file_path (str): Path to the file containing the edge list.\n",
    "\n",
    "    Returns:\n",
    "        G (networkx.Graph): Graph created from the edgelist.\n",
    "    '''\n",
    "    G = nx.Graph() # Create an empty graph object\n",
    "    with open(file_path, 'r') as file: # Open the file containing the edgelist\n",
    "        for line in file:\n",
    "            node1, node2 = line.strip().split('\\t') # Split ech line by the tab into two nodes\n",
    "            G.add_edge(node1, node2) # Add edges to the graph\n",
    "    return G"
   ]
  },
  {
   "cell_type": "markdown",
   "metadata": {},
   "source": [
    "## Centrality measurements"
   ]
  },
  {
   "cell_type": "code",
   "execution_count": 3,
   "metadata": {},
   "outputs": [],
   "source": [
    "def degree_centrality(graph):\n",
    "    '''\n",
    "    Calcualtes nodes with the highest degree centrality measures for a given graph.\n",
    "\n",
    "    Parameters:\n",
    "        graph (networkx.Graph): Graph for which the nodes with the highest degree centrality are determined.\n",
    "    '''\n",
    "        \n",
    "    # Calculate degree centrality\n",
    "    degree_centrality = nx.degree_centrality(graph)\n",
    "    \n",
    "    # Print top 5 most central nodes (diseases)\n",
    "    top_5_degree = sorted(degree_centrality.items(), key=lambda x: x[1], reverse=True)[:5]\n",
    "    print(\"Top 5 most central diseases by degree centrality:\", top_5_degree)"
   ]
  },
  {
   "cell_type": "code",
   "execution_count": 4,
   "metadata": {},
   "outputs": [],
   "source": [
    "def betweenness_centrality(graph):\n",
    "    '''\n",
    "    Calcualtes nodes with the highest betweenness centrality measures for a given graph.\n",
    "\n",
    "    Parameters:\n",
    "        graph (networkx.Graph): Graph for which the nodes with the highest betweenness centrality are determined.\n",
    "    '''\n",
    "        \n",
    "    # Calculate betweenness centrality\n",
    "    betweenness_centrality = nx.betweenness_centrality(graph)\n",
    "    \n",
    "    # Print top 5 most central nodes by betweenness centrality\n",
    "    top_5_betweenness = sorted(betweenness_centrality.items(), key=lambda x: x[1], reverse=True)[:5]\n",
    "    print(\"Top 5 most central diseases by betweenness centrality:\", top_5_betweenness)"
   ]
  },
  {
   "cell_type": "code",
   "execution_count": 5,
   "metadata": {},
   "outputs": [],
   "source": [
    "def closeness_centrality(graph):\n",
    "    '''\n",
    "    Calcualtes nodes with the highest closeness centrality measures for a given graph.\n",
    "\n",
    "    Parameters:\n",
    "        graph (networkx.Graph): Graph for which the nodes with the highest closeness centrality are determined.\n",
    "    '''\n",
    "        \n",
    "    # Calculate closeness centrality\n",
    "    closeness_centrality = nx.closeness_centrality(graph)\n",
    "    \n",
    "    # Print top 5 most central nodes by closeness centrality\n",
    "    top_5_closeness = sorted(closeness_centrality.items(), key=lambda x: x[1], reverse=True)[:5]\n",
    "    print(\"Top 5 most central diseases by closeness centrality:\", top_5_closeness)"
   ]
  },
  {
   "cell_type": "code",
   "execution_count": 6,
   "metadata": {},
   "outputs": [],
   "source": [
    "def eigenvector_centrality(graph):\n",
    "    '''\n",
    "    Calcualtes nodes with the highest eigenvector centrality measures for a given graph.\n",
    "\n",
    "    Parameters:\n",
    "        graph (networkx.Graph): Graph for which the nodes with the highest eigenvector centrality are determined.\n",
    "    '''\n",
    "\n",
    "    # Calculate eigenvector centrality\n",
    "    eigenvector_centrality = nx.eigenvector_centrality(graph)\n",
    "    \n",
    "    # Print top 5 most central nodes by eigenvector centrality\n",
    "    top_5_eigenvector = sorted(eigenvector_centrality.items(), key=lambda x: x[1], reverse=True)[:5]\n",
    "    print(\"Top 5 most central diseases by eigenvector centrality:\", top_5_eigenvector)"
   ]
  },
  {
   "cell_type": "code",
   "execution_count": 7,
   "metadata": {},
   "outputs": [],
   "source": [
    "def all(G):\n",
    "    '''\n",
    "    Calcualtes nodes with the highest centrality measures for a given graph.\n",
    "\n",
    "    Parameters:\n",
    "        G (networkx.Graph): Graph for which the central nodes are determined.\n",
    "    '''\n",
    "    degree_centrality(G)\n",
    "    betweenness_centrality(G)\n",
    "    closeness_centrality(G)\n",
    "    eigenvector_centrality(G)"
   ]
  },
  {
   "cell_type": "markdown",
   "metadata": {},
   "source": [
    "# Analysis"
   ]
  },
  {
   "cell_type": "code",
   "execution_count": 8,
   "metadata": {},
   "outputs": [
    {
     "name": "stdout",
     "output_type": "stream",
     "text": [
      "disease_on_genes\n",
      "Top 5 most central diseases by degree centrality: [('Seizure', 0.1976362442547603), ('Epilepsy', 0.18877216021011162), ('Schizophrenia', 0.14215364412344056), ('Nystagmus', 0.12672357189757058), ('Cryptorchidism', 0.11556139198949442)]\n",
      "Top 5 most central diseases by betweenness centrality: [('Seizure', 0.047767817841415525), ('Epilepsy', 0.04597507495898787), ('Schizophrenia', 0.040577255094925366), ('Nystagmus', 0.03985375589749492), ('Cryptorchidism', 0.025404255800147116)]\n",
      "Top 5 most central diseases by closeness centrality: [('Epilepsy', 0.44512455762339814), ('Seizure', 0.4438893115444563), ('Schizophrenia', 0.4400106670746504), ('Neoplasm_of_stomach', 0.4394418103622074), ('Nystagmus', 0.4361292578221876)]\n",
      "Top 5 most central diseases by eigenvector centrality: [('Seizure', 0.12851892416216196), ('Epilepsy', 0.11954773607701524), ('Schizophrenia', 0.10690364093222653), ('Depression', 0.09463092084088719), ('Hypertensive_disorder', 0.09243261968751389)]\n",
      "\n",
      "disease_on_symptoms\n",
      "Top 5 most central diseases by degree centrality: [('Erythromelalgia', 0.06654052349416588), ('Primary_erythromelalgia', 0.0640176600441501), ('Secondary_erythromelalgia', 0.06338694418164617), ('Cluster_headache', 0.06338694418164617), ('Peripheral_neuropathy', 0.06338694418164617)]\n",
      "Top 5 most central diseases by betweenness centrality: [('Dysphagia', 0.10341622718497627), ('Orthostatic_hypotension', 0.09271048424633686), ('Movement_disorder', 0.08108846308173555), ('Hepatitis', 0.07414035079059246), ('Neoplasm_of_the_nervous_system', 0.06607108455417275)]\n",
      "Top 5 most central diseases by closeness centrality: [('Dysphagia', 0.32493083307715953), ('Tracheoesophageal_fistula', 0.3071483920960868), ('Movement_disorder', 0.3044647143542967), ('Neoplasm_of_the_nervous_system', 0.3042894156031091), ('Neoplasm_of_the_ear', 0.3012826603325416)]\n",
      "Top 5 most central diseases by eigenvector centrality: [('Other_Specified_Diseases_of_Liver', 0.07927239227825703), ('Brachial_plexus_neuralgia', 0.07924042923080578), ('Dysmenorrhea_-_non-psychogenic', 0.0772843659591606), ('Neuralgia_with_AIDS_(acquired_immunodeficiency_syndrome)', 0.07718208870574794), ('Chronic_sore_throat', 0.07714263948015801)]\n",
      "\n",
      "disease_on_drugs\n",
      "Top 5 most central diseases by degree centrality: [('Rheumatoid_arthritis', 0.12970168612191957), ('Allergic_rhinitis', 0.11413748378728923), ('Psoriasis', 0.11154345006485084), ('Asthma', 0.10894941634241245), ('Multiple_sclerosis', 0.10116731517509728)]\n",
      "Top 5 most central diseases by betweenness centrality: [('Rheumatoid_arthritis', 0.05488463050394131), ('Psoriasis', 0.037780590581574264), ('Allergic_rhinitis', 0.03699392445759223), ('Hypertensive_disorder', 0.035599817288227094), ('Asthma', 0.03423196803441664)]\n",
      "Top 5 most central diseases by closeness centrality: [('Allergic_rhinitis', 0.4616766467065868), ('Rheumatoid_arthritis', 0.4500875656742557), ('Hypertensive_disorder', 0.4443804034582133), ('Acne', 0.4438687392055268), ('Asthma', 0.4393162393162393)]\n",
      "Top 5 most central diseases by eigenvector centrality: [('Ulcerative_colitis', 0.12843551146946525), ('Crohn_disease', 0.12778634124796925), ('Pemphigus', 0.122361811261916), ('Inflammatory_bowel_disease', 0.1205063729675901), ('Allergic_rhinitis', 0.11920707011894084)]\n",
      "\n"
     ]
    }
   ],
   "source": [
    "networks = ['disease_on_genes', 'disease_on_symptoms', 'disease_on_drugs']\n",
    "\n",
    "for layer in networks:\n",
    "    print(layer)\n",
    "    spars_path = f'../00_Data/Sparsified_networks/{layer}.tsv'\n",
    "    G = create_graph(spars_path)\n",
    "    all(G)\n",
    "    print()"
   ]
  },
  {
   "cell_type": "code",
   "execution_count": null,
   "metadata": {},
   "outputs": [],
   "source": []
  }
 ],
 "metadata": {
  "kernelspec": {
   "display_name": "base",
   "language": "python",
   "name": "python3"
  },
  "language_info": {
   "codemirror_mode": {
    "name": "ipython",
    "version": 3
   },
   "file_extension": ".py",
   "mimetype": "text/x-python",
   "name": "python",
   "nbconvert_exporter": "python",
   "pygments_lexer": "ipython3",
   "version": "3.11.5"
  }
 },
 "nbformat": 4,
 "nbformat_minor": 2
}
