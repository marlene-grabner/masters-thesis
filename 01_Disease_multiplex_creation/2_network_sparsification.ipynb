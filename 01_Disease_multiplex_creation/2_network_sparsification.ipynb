{
 "cells": [
  {
   "cell_type": "code",
   "execution_count": null,
   "metadata": {},
   "outputs": [],
   "source": [
    "import networkx as nx\n",
    "import numpy as np\n",
    "from scipy.sparse.linalg import inv\n",
    "from scipy.sparse import csr_matrix\n",
    "import random"
   ]
  },
  {
   "cell_type": "code",
   "execution_count": null,
   "metadata": {},
   "outputs": [],
   "source": [
    "# Reading in a tsv files, creating a list of edges and a graph object from that\n",
    "def create_graph(file_path):\n",
    "    '''\n",
    "    Reads file with an edgelist and creates NetworkX graph from it\n",
    "\n",
    "    Parameters:\n",
    "        file_path (str): Path to the file containing the edge list.\n",
    "\n",
    "    Returns:\n",
    "        G (networkx.Graph): Graph created from the edgelist\n",
    "    '''\n",
    "    edges = [] # Empty list to store edges\n",
    "    with open(file_path, 'r') as file: # Open the file containing the edgelist\n",
    "        for line in file:\n",
    "            node1, node2 = line.strip().split('\\t') # Split ech line into two nodes\n",
    "            edges.append((node1, node2)) # Append edge to edgelist\n",
    "    G = nx.Graph() # Create an empty graph object\n",
    "    G.add_edges_from(edges) # Add edges to the graph\n",
    "    return G"
   ]
  },
  {
   "cell_type": "code",
   "execution_count": 1,
   "metadata": {},
   "outputs": [],
   "source": [
    "def effective_resistance_matrix(L):\n",
    "    '''\n",
    "    Computes the effective resistance matrix for a given Laplacian matrix L.\n",
    "\n",
    "    Parameters:\n",
    "        L(nx.Graph())\n",
    "    '''\n",
    "    L_pinv = inv(csr_matrix(L).tocsc())\n",
    "    n = L.shape[0]\n",
    "    R = np.zeros(L.shape)\n",
    "    for i in range(n):\n",
    "        for j in range(i+1, n):\n",
    "            e_i = np.zeros(n)\n",
    "            e_i[i] = 1\n",
    "            e_j = np.zeros(n)\n",
    "            e_j[j] = 1\n",
    "            R[i, j] = R[j, i] = (e_i - e_j) @ L_pinv @ (e_i - e_j)\n",
    "    return R"
   ]
  },
  {
   "cell_type": "code",
   "execution_count": 2,
   "metadata": {},
   "outputs": [],
   "source": [
    "def gsp_graph_sparsify(G, epsilon=0.1):\n",
    "    N = G.number_of_nodes()\n",
    "    if N < 3:\n",
    "        raise ValueError('Cannot sparsify a graph with less than 3 nodes')\n",
    "\n",
    "    if epsilon < 1/np.sqrt(N) or epsilon > 1:\n",
    "        raise ValueError('Epsilon out of required range')\n",
    "\n",
    "    # Compute Laplacian matrix\n",
    "    L = nx.laplacian_matrix(G).toarray()\n",
    "\n",
    "    # Compute resistance distances\n",
    "    resistance_distances = effective_resistance_matrix(L)\n",
    "\n",
    "    # Initialize the probability distribution for edge selection\n",
    "    edges = list(G.edges())\n",
    "    Pe = np.zeros(len(edges))\n",
    "    for idx, (u, v) in enumerate(edges):\n",
    "        Pe[idx] = resistance_distances[u, v]\n",
    "\n",
    "    Pe /= np.sum(Pe)  # Normalize to form a probability distribution\n",
    "\n",
    "    max_tries = 10  # Maximum number of attempts to get a connected graph\n",
    "\n",
    "    for i in range(max_tries):\n",
    "        # Set Q\n",
    "        C0 = 1/30  # This constant can be adjusted\n",
    "        C = 4 * C0\n",
    "        q = round(9 * C**2 * N * np.log(N) / (epsilon**2))\n",
    "\n",
    "        # Choose random edges based on the probability distribution\n",
    "        selected_edges_idx = np.random.choice(len(edges), size=q, p=Pe)\n",
    "        selected_edges = [edges[idx] for idx in selected_edges_idx]\n",
    "\n",
    "        H = nx.Graph()\n",
    "        H.add_edges_from(selected_edges)\n",
    "\n",
    "        # Check if the new graph is connected\n",
    "        if nx.is_connected(H):\n",
    "            break\n",
    "        elif i == max_tries - 1:\n",
    "            raise Warning('Despite attempts to reduce epsilon, sparsified graph is disconnected')\n",
    "        else:\n",
    "            epsilon = epsilon - (epsilon - 1/np.sqrt(N)) / 2\n",
    "\n",
    "    return H"
   ]
  },
  {
   "cell_type": "markdown",
   "metadata": {},
   "source": [
    "# Sparsifying the graphs"
   ]
  },
  {
   "cell_type": "code",
   "execution_count": 1,
   "metadata": {},
   "outputs": [],
   "source": [
    "# Specifying the paths were the original, non-sparsified network is found, and where sparsified ones shall\n",
    "# be saved\n",
    "non_sparsified_network_path = 'path_to_non_sparsified_network_file'\n",
    "save_folder = 'folder_to_save_sparsified_networks'"
   ]
  },
  {
   "cell_type": "code",
   "execution_count": null,
   "metadata": {},
   "outputs": [],
   "source": [
    "original_graph = create_graph(non_sparsified_network_path) # Creating a networkx graph object\n",
    "L = nx.laplacian_matrix(original_graph).toarray() # Get the Laplacian matrix of the graph as a dense array \n",
    "\n",
    "epsilons = [0.03, 0.05, 0.07, 0.08, 0.09, 0.1, 0.15, 0.2, 0.25, 0.3, 0.35, 0.4, 0.5, 0.6, 0.7] # List of epsilons for different sparsifications\n",
    "R = effective_resistance_matrix(L) # Calculating the effective resistance matrix\n",
    "\n",
    "# Iterate through all epsilons to get the differently strongly sparsified graphs\n",
    "for epsilon in epsilons:\n",
    "    sparsified_graph = sparsify_graph(original_graph, R, epsilon)\n",
    "    nx.write_edgelist(sparsified_graph, f'{save_folder}/{file_name}_sparsified_epsilon_{epsilon}.tsv', delimiter='\\t', data=True)"
   ]
  }
 ],
 "metadata": {
  "kernelspec": {
   "display_name": "base",
   "language": "python",
   "name": "python3"
  },
  "language_info": {
   "codemirror_mode": {
    "name": "ipython",
    "version": 3
   },
   "file_extension": ".py",
   "mimetype": "text/x-python",
   "name": "python",
   "nbconvert_exporter": "python",
   "pygments_lexer": "ipython3",
   "version": "3.11.5"
  }
 },
 "nbformat": 4,
 "nbformat_minor": 2
}
