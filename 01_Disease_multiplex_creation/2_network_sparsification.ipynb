{
 "cells": [
  {
   "cell_type": "code",
   "execution_count": null,
   "metadata": {},
   "outputs": [],
   "source": [
    "import networkx as nx\n",
    "import numpy as np\n",
    "from scipy.sparse.linalg import inv\n",
    "from scipy.sparse import csr_matrix\n",
    "import random"
   ]
  },
  {
   "cell_type": "markdown",
   "metadata": {},
   "source": [
    "**This is an implementation of the sparsification method introduced by Spielman et al. 2009** <br>\n",
    "This code calculates a sparsified network approximation for a more dense graph based on effective resistance.\n",
    " \n",
    "Graph Sparsification by Effective Resistance<br>\n",
    "by Daniel A. Spielman and Nikhil Srivastava"
   ]
  },
  {
   "cell_type": "code",
   "execution_count": null,
   "metadata": {},
   "outputs": [],
   "source": [
    "def create_graph(file_path):\n",
    "    '''\n",
    "    Reads file with an edgelist and creates NetworkX graph from it\n",
    "\n",
    "    Parameters:\n",
    "        file_path (str): Path to the file containing the edge list.\n",
    "\n",
    "    Returns:\n",
    "        G (networkx.Graph): Graph created from the edgelist\n",
    "    '''\n",
    "    edges = [] # Empty list to store edges\n",
    "    with open(file_path, 'r') as file: # Open the file containing the edgelist\n",
    "        for line in file:\n",
    "            node1, node2 = line.strip().split('\\t') # Split ech line into two nodes\n",
    "            edges.append((node1, node2)) # Append edge to edgelist\n",
    "    G = nx.Graph() # Create an empty graph object\n",
    "    G.add_edges_from(edges) # Add edges to the graph\n",
    "    return G"
   ]
  },
  {
   "cell_type": "code",
   "execution_count": 1,
   "metadata": {},
   "outputs": [],
   "source": [
    "def effective_resistance_matrix(G):\n",
    "    '''\n",
    "    Computes the effective resistance matrix for a given graph G.\n",
    "\n",
    "    Parameters:\n",
    "        G (networkx.Graph()): Graph object for which the effective resistance matrix shall be calculated.\n",
    "\n",
    "    Returns:\n",
    "        R (np.array): Effective resistance matrix, where R[i, j] represents the effective resistance between nodes i and j.\n",
    "    '''\n",
    "    \n",
    "    L = nx.laplacian_matrix(G).toarray() # Compute the Laplacian matrix of the graph as a dense array \n",
    "    L_pinv = inv(csr_matrix(L).tocsc()) # Compute the pseudoinverse of the Laplacian matrix (sparse matrix is used for efficency)\n",
    "    \n",
    "    # Initalize an effective resistance matrix containing only zeros\n",
    "    n = L.shape[0] # number of nodes in the graph\n",
    "    R = np.zeros(L.shape)\n",
    "\n",
    "    # Calculate the effecitve resistance between each node pair\n",
    "    for i in range(n):\n",
    "        for j in range(i+1, n):\n",
    "            # Create indicator vector for nodes i and j\n",
    "            e_i = np.zeros(n)\n",
    "            e_i[i] = 1\n",
    "            e_j = np.zeros(n)\n",
    "            e_j[j] = 1\n",
    "\n",
    "            # Calculate the effective resistance according to the formula\n",
    "            R[i, j] = R[j, i] = (e_i - e_j) @ L_pinv @ (e_i - e_j)\n",
    "    return R"
   ]
  },
  {
   "cell_type": "code",
   "execution_count": 2,
   "metadata": {},
   "outputs": [],
   "source": [
    "def sparsify_graph(G, R, epsilon):\n",
    "    \"\"\"\n",
    "    Sparsify an unweighted graph G using effective resistance.\n",
    "    \"\"\"\n",
    "    N = G.number_of_nodes()\n",
    "    if N < 3:\n",
    "        raise ValueError('Cannot sparsify a graph with less than 3 nodes')\n",
    "\n",
    "    # Map nodes to indices\n",
    "    node_map = {node: idx for idx, node in enumerate(G.nodes())}\n",
    "    reverse_node_map = {idx: node for node, idx in node_map.items()}\n",
    "\n",
    "    # Initialize the probability distribution for edge selection\n",
    "    edges = list(G.edges())\n",
    "    Pe = np.zeros(len(edges))\n",
    "    for idx, (u, v) in enumerate(edges):\n",
    "        u_idx, v_idx = node_map[u], node_map[v]\n",
    "        Pe[idx] = R[u_idx, v_idx]\n",
    "\n",
    "    Pe /= np.sum(Pe)  # Normalize to form a probability distribution\n",
    "\n",
    "    # Number of edges to sample\n",
    "    C0 = 1 / 30  # This constant can be adjusted\n",
    "    C = 4 * C0\n",
    "    q = round(9 * C ** 2 * N * np.log(N) / (epsilon ** 2))\n",
    "\n",
    "    # Choose random edges based on the probability distribution\n",
    "    selected_edges_idx = np.random.choice(len(edges), size=q, replace=True, p=Pe)\n",
    "    selected_edges = [edges[idx] for idx in selected_edges_idx]\n",
    "\n",
    "    H = nx.Graph()\n",
    "    H.add_nodes_from(G.nodes())\n",
    "    for idx in selected_edges_idx:\n",
    "        u, v = edges[idx]\n",
    "        H.add_edge(u, v, weight=1/Pe[idx])\n",
    "\n",
    "    return H"
   ]
  },
  {
   "cell_type": "markdown",
   "metadata": {},
   "source": [
    "# Sparsifying the graphs"
   ]
  },
  {
   "cell_type": "code",
   "execution_count": 1,
   "metadata": {},
   "outputs": [],
   "source": [
    "# Specifying the paths were the original, non-sparsified network is found, and where sparsified ones shall\n",
    "# be saved\n",
    "non_sparsified_network_path = 'path_to_non_sparsified_network_file'\n",
    "save_folder = 'folder_to_save_sparsified_networks'"
   ]
  },
  {
   "cell_type": "code",
   "execution_count": null,
   "metadata": {},
   "outputs": [],
   "source": [
    "original_graph = create_graph(non_sparsified_network_path) # Creating a networkx graph object\n",
    "R = effective_resistance_matrix(L) # Calculating the effective resistance matrix\n",
    "\n",
    "epsilon = 0.1 # Specify epsilon for how many edges shall be retained\n",
    "sparsified_graph = sparsify_graph(original_graph, R, epsilon) # Sparsify the graph"
   ]
  },
  {
   "cell_type": "code",
   "execution_count": null,
   "metadata": {},
   "outputs": [],
   "source": [
    "# Save edgelist of sparsified graph if desired\n",
    "nx.write_edgelist(sparsified_graph, '../00_Data/Sparsified_networks/sparsified_graph.tsv', delimiter='\\t', data=True)"
   ]
  }
 ],
 "metadata": {
  "kernelspec": {
   "display_name": "base",
   "language": "python",
   "name": "python3"
  },
  "language_info": {
   "codemirror_mode": {
    "name": "ipython",
    "version": 3
   },
   "file_extension": ".py",
   "mimetype": "text/x-python",
   "name": "python",
   "nbconvert_exporter": "python",
   "pygments_lexer": "ipython3",
   "version": "3.11.5"
  }
 },
 "nbformat": 4,
 "nbformat_minor": 2
}
