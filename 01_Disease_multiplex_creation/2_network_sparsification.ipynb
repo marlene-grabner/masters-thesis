{
 "cells": [
  {
   "cell_type": "code",
   "execution_count": null,
   "metadata": {},
   "outputs": [],
   "source": [
    "import networkx as nx\n",
    "import numpy as np\n",
    "from scipy.sparse.linalg import inv\n",
    "from scipy.sparse import csr_matrix\n",
    "import random"
   ]
  },
  {
   "cell_type": "code",
   "execution_count": null,
   "metadata": {},
   "outputs": [],
   "source": [
    "# Reading in a tsv files, creating a list of edges and a graph object from that\n",
    "def create_graph(file_path):\n",
    "    edges = []\n",
    "    with open(file_path, 'r') as file:\n",
    "        #next(file)\n",
    "        #next(file)\n",
    "        for line in file:\n",
    "            node1, node2 = line.strip().split('\\t')\n",
    "            edges.append((node1, node2))\n",
    "    G = nx.Graph()\n",
    "    G.add_edges_from(edges)\n",
    "    return G"
   ]
  },
  {
   "cell_type": "code",
   "execution_count": 1,
   "metadata": {},
   "outputs": [],
   "source": [
    "def effective_resistance_matrix(L):\n",
    "    L_pinv = inv(csr_matrix(L).tocsc())\n",
    "    n = L.shape[0]\n",
    "    R = np.zeros(L.shape)\n",
    "    for i in range(n):\n",
    "        for j in range(i+1, n):\n",
    "            e_i = np.zeros(n)\n",
    "            e_i[i] = 1\n",
    "            e_j = np.zeros(n)\n",
    "            e_j[j] = 1\n",
    "            R[i, j] = R[j, i] = (e_i - e_j) @ L_pinv @ (e_i - e_j)\n",
    "    return R"
   ]
  },
  {
   "cell_type": "code",
   "execution_count": 2,
   "metadata": {},
   "outputs": [],
   "source": [
    "def gsp_graph_sparsify(G, epsilon=0.1):\n",
    "    N = G.number_of_nodes()\n",
    "    if N < 3:\n",
    "        raise ValueError('Cannot sparsify a graph with less than 3 nodes')\n",
    "\n",
    "    if epsilon < 1/np.sqrt(N) or epsilon > 1:\n",
    "        raise ValueError('Epsilon out of required range')\n",
    "\n",
    "    # Compute Laplacian matrix\n",
    "    L = nx.laplacian_matrix(G).toarray()\n",
    "\n",
    "    # Compute resistance distances\n",
    "    resistance_distances = effective_resistance_matrix(L)\n",
    "\n",
    "    # Initialize the probability distribution for edge selection\n",
    "    edges = list(G.edges())\n",
    "    Pe = np.zeros(len(edges))\n",
    "    for idx, (u, v) in enumerate(edges):\n",
    "        Pe[idx] = resistance_distances[u, v]\n",
    "\n",
    "    Pe /= np.sum(Pe)  # Normalize to form a probability distribution\n",
    "\n",
    "    max_tries = 10  # Maximum number of attempts to get a connected graph\n",
    "\n",
    "    for i in range(max_tries):\n",
    "        # Set Q\n",
    "        C0 = 1/30  # This constant can be adjusted\n",
    "        C = 4 * C0\n",
    "        q = round(9 * C**2 * N * np.log(N) / (epsilon**2))\n",
    "\n",
    "        # Choose random edges based on the probability distribution\n",
    "        selected_edges_idx = np.random.choice(len(edges), size=q, p=Pe)\n",
    "        selected_edges = [edges[idx] for idx in selected_edges_idx]\n",
    "\n",
    "        H = nx.Graph()\n",
    "        H.add_edges_from(selected_edges)\n",
    "\n",
    "        # Check if the new graph is connected\n",
    "        if nx.is_connected(H):\n",
    "            break\n",
    "        elif i == max_tries - 1:\n",
    "            raise Warning('Despite attempts to reduce epsilon, sparsified graph is disconnected')\n",
    "        else:\n",
    "            epsilon = epsilon - (epsilon - 1/np.sqrt(N)) / 2\n",
    "\n",
    "    return H"
   ]
  },
  {
   "cell_type": "markdown",
   "metadata": {},
   "source": [
    "# Sparsifying the graphs"
   ]
  },
  {
   "cell_type": "markdown",
   "metadata": {},
   "source": [
    "path = f'/lisc/user/grabner/Network_sparsification/Networks/Originals/{file_name}.tsv'\n",
    "original_graph = create_graph(path)\n",
    "\n",
    "'''\n",
    "if epsilon == 0.05:\n",
    "    create_hist(original_graph, f'{file_name} - Original')\n",
    "'''\n",
    "\n",
    "epsilons = [0.03, 0.05, 0.07, 0.08, 0.09, 0.1, 0.15, 0.2, 0.25, 0.3, 0.35, 0.4, 0.5, 0.6, 0.7]\n",
    "R = effective_resistance_matrix(original_graph)\n",
    "\n",
    "for epsilon in epsilons:\n",
    "    sparsified_graph = sparsify_graph(original_graph, R, epsilon)\n",
    "    #create_hist(sparsified_graph, f'{file_name} - sparsified - epsilon: {epsilon}')\n",
    "    nx.write_edgelist(sparsified_graph, f'/lisc/user/grabner/Network_sparsification/Networks/{file_name}_sparsified_epsilon_{epsilon}.tsv', delimiter='\\t', data=True)"
   ]
  },
  {
   "cell_type": "code",
   "execution_count": null,
   "metadata": {},
   "outputs": [],
   "source": [
    "path = f'/lisc/user/grabner/Network_sparsification/Networks/Originals/{file_name}.tsv'\n",
    "original_graph = create_graph(path)\n",
    "\n",
    "'''\n",
    "if epsilon == 0.05:\n",
    "    create_hist(original_graph, f'{file_name} - Original')\n",
    "'''\n",
    "\n",
    "epsilons = [0.03, 0.05, 0.07, 0.08, 0.09, 0.1, 0.15, 0.2, 0.25, 0.3, 0.35, 0.4, 0.5, 0.6, 0.7]\n",
    "R = effective_resistance_matrix(original_graph)\n",
    "\n",
    "for epsilon in epsilons:\n",
    "    sparsified_graph = sparsify_graph(original_graph, R, epsilon)\n",
    "    #create_hist(sparsified_graph, f'{file_name} - sparsified - epsilon: {epsilon}')\n",
    "    nx.write_edgelist(sparsified_graph, f'/lisc/user/grabner/Network_sparsification/Networks/{file_name}_sparsified_epsilon_{epsilon}.tsv', delimiter='\\t', data=True)"
   ]
  }
 ],
 "metadata": {
  "kernelspec": {
   "display_name": "base",
   "language": "python",
   "name": "python3"
  },
  "language_info": {
   "codemirror_mode": {
    "name": "ipython",
    "version": 3
   },
   "file_extension": ".py",
   "mimetype": "text/x-python",
   "name": "python",
   "nbconvert_exporter": "python",
   "pygments_lexer": "ipython3",
   "version": "3.11.5"
  }
 },
 "nbformat": 4,
 "nbformat_minor": 2
}
